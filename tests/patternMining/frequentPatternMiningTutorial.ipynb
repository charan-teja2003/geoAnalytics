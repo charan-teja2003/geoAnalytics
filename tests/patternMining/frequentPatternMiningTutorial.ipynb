{
  "nbformat": 4,
  "nbformat_minor": 0,
  "metadata": {
    "colab": {
      "provenance": [],
      "toc_visible": true,
      "name": "frequentPatternMiningTutorial.ipynb",
      "include_colab_link": true
    },
    "kernelspec": {
      "name": "python3",
      "display_name": "Python 3"
    },
    "language_info": {
      "name": "python"
    }
  },
  "cells": [
    {
      "cell_type": "markdown",
      "metadata": {
        "id": "view-in-github",
        "colab_type": "text"
      },
      "source": [
        "<a href=\"https://colab.research.google.com/github/UdayLab/geoanalytics/blob/main/tests/patternMining/frequentPatternMiningTutorial.ipynb\" target=\"_parent\"><img src=\"https://colab.research.google.com/assets/colab-badge.svg\" alt=\"Open In Colab\"/></a>"
      ]
    },
    {
      "cell_type": "markdown",
      "source": [
        "# Introduction\n",
        "\n",
        "In this exercise, we learn the process to find useful patterns hidden in the raster data."
      ],
      "metadata": {
        "id": "ohuIRTg4CBhN"
      }
    },
    {
      "cell_type": "markdown",
      "source": [
        "# Step 1: Install the Necessary Libraries"
      ],
      "metadata": {
        "id": "Wm0tORPIoVwB"
      }
    },
    {
      "cell_type": "code",
      "source": [
        "# Installing necessary modules\n",
        "!apt update\n",
        "!apt install -y nco cdo gdal-bin\n",
        "!which ncrename\n",
        "!which cdo\n",
        "!which gdal_translate"
      ],
      "metadata": {
        "colab": {
          "base_uri": "https://localhost:8080/"
        },
        "collapsed": true,
        "id": "J3GVu23Fr4YR",
        "outputId": "6ad7c155-d881-4094-f147-3214b90fdbfc"
      },
      "execution_count": null,
      "outputs": [
        {
          "output_type": "stream",
          "name": "stdout",
          "text": [
            "\u001b[33m\r0% [Working]\u001b[0m\r            \rHit:1 http://archive.ubuntu.com/ubuntu jammy InRelease\n",
            "\u001b[33m\r0% [Waiting for headers] [Connected to cloud.r-project.org (65.9.86.28)] [Conne\u001b[0m\r                                                                               \rGet:2 http://archive.ubuntu.com/ubuntu jammy-updates InRelease [128 kB]\n",
            "\r                                                                               \rGet:3 http://security.ubuntu.com/ubuntu jammy-security InRelease [129 kB]\n",
            "\u001b[33m\r0% [Waiting for headers] [Connected to cloud.r-project.org (65.9.86.28)] [Conne\u001b[0m\r                                                                               \rGet:4 http://archive.ubuntu.com/ubuntu jammy-backports InRelease [127 kB]\n",
            "\u001b[33m\r0% [4 InRelease 24.3 kB/127 kB 19%] [Connected to cloud.r-project.org (65.9.86.\u001b[0m\u001b[33m\r0% [Waiting for headers] [Connecting to r2u.stat.illinois.edu (192.17.190.167)]\u001b[0m\r                                                                               \rGet:5 https://cloud.r-project.org/bin/linux/ubuntu jammy-cran40/ InRelease [3,632 B]\n",
            "Get:6 https://developer.download.nvidia.com/compute/cuda/repos/ubuntu2204/x86_64  InRelease [1,581 B]\n",
            "Hit:7 https://ppa.launchpadcontent.net/deadsnakes/ppa/ubuntu jammy InRelease\n",
            "Hit:8 https://ppa.launchpadcontent.net/graphics-drivers/ppa/ubuntu jammy InRelease\n",
            "Hit:9 https://ppa.launchpadcontent.net/ubuntugis/ppa/ubuntu jammy InRelease\n",
            "Get:10 http://archive.ubuntu.com/ubuntu jammy-updates/restricted amd64 Packages [4,909 kB]\n",
            "Get:11 https://r2u.stat.illinois.edu/ubuntu jammy InRelease [6,555 B]\n",
            "Get:12 http://archive.ubuntu.com/ubuntu jammy-updates/universe amd64 Packages [1,564 kB]\n",
            "Get:13 http://archive.ubuntu.com/ubuntu jammy-updates/main amd64 Packages [3,399 kB]\n",
            "Get:14 http://security.ubuntu.com/ubuntu jammy-security/universe amd64 Packages [1,257 kB]\n",
            "Get:15 http://security.ubuntu.com/ubuntu jammy-security/main amd64 Packages [3,040 kB]\n",
            "Get:16 http://security.ubuntu.com/ubuntu jammy-security/restricted amd64 Packages [4,587 kB]\n",
            "Get:17 https://developer.download.nvidia.com/compute/cuda/repos/ubuntu2204/x86_64  Packages [1,801 kB]\n",
            "Get:18 https://r2u.stat.illinois.edu/ubuntu jammy/main all Packages [9,067 kB]\n",
            "Get:19 https://r2u.stat.illinois.edu/ubuntu jammy/main amd64 Packages [2,750 kB]\n",
            "Fetched 32.8 MB in 7s (4,708 kB/s)\n",
            "Reading package lists... Done\n",
            "Building dependency tree... Done\n",
            "Reading state information... Done\n",
            "38 packages can be upgraded. Run 'apt list --upgradable' to see them.\n",
            "\u001b[1;33mW: \u001b[0mSkipping acquire of configured file 'main/source/Sources' as repository 'https://r2u.stat.illinois.edu/ubuntu jammy InRelease' does not seem to provide it (sources.list entry misspelt?)\u001b[0m\n",
            "Reading package lists... Done\n",
            "Building dependency tree... Done\n",
            "Reading state information... Done\n",
            "The following additional packages will be installed:\n",
            "  binfmt-support fonts-dejavu-core fonts-dejavu-extra fonts-droid-fallback\n",
            "  fonts-font-awesome fonts-lato fonts-lyx fonts-noto-mono fonts-urw-base35\n",
            "  ghostscript libcdi0 libclang-cpp11 libdxflib3 libeccodes-data libeccodes0\n",
            "  libeckit0d libevdev2 libfftw3-double3 libgs9 libgs9-common libgsl27\n",
            "  libgslcblas0 libgudev-1.0-0 libidn12 libijs-0.35 libimagequant0 libinput-bin\n",
            "  libinput10 libjbig2dec0 liblbfgsb0 libllvm11 liblzf1 libmagics++-data\n",
            "  libmagplus3v5 libmd4c0 libmtdev1 libodc-0d libpfm4 libproj22 libqt5core5a\n",
            "  libqt5dbus5 libqt5gui5 libqt5network5 libqt5svg5 libqt5widgets5 libraqm0\n",
            "  librsync2 libterralib3 libwacom-bin libwacom-common libwacom9 libxcb-icccm4\n",
            "  libxcb-image0 libxcb-keysyms1 libxcb-render-util0 libxcb-util1\n",
            "  libxcb-xinerama0 libxcb-xinput0 libxcb-xkb1 libxkbcommon-x11-0 libxsimd-dev\n",
            "  libz3-4 libz3-dev llvm-11 llvm-11-dev llvm-11-linker-tools llvm-11-runtime\n",
            "  llvm-11-tools numba-doc poppler-data python-babel-localedata\n",
            "  python-matplotlib-data python-odf-doc python-odf-tools python-tables-data\n",
            "  python3-appdirs python3-asciitree python3-attr python3-babel python3-bcrypt\n",
            "  python3-beniget python3-blosc python3-bottleneck python3-brotli python3-bs4\n",
            "  python3-cdo python3-certifi python3-cftime python3-chardet python3-click\n",
            "  python3-cloudpickle python3-colorama python3-cycler python3-dask\n",
            "  python3-dateutil python3-decorator python3-defusedxml python3-distributed\n",
            "  python3-dropbox python3-et-xmlfile python3-fasteners python3-fonttools\n",
            "  python3-fs python3-fsspec python3-fusepy python3-gast python3-gdal\n",
            "  python3-h5netcdf python3-h5py-serial python3-heapdict python3-html5lib\n",
            "  python3-idna python3-iniconfig python3-jdcal python3-jinja2\n",
            "  python3-kiwisolver python3-libarchive-c python3-llvmlite python3-locket\n",
            "  python3-lxml python3-lz4 python3-matplotlib python3-monotonic python3-mpmath\n",
            "  python3-msgpack python3-nacl python3-netcdf4 python3-numba python3-numcodecs\n",
            "  python3-numexpr python3-numpy python3-odf python3-olefile python3-openpyxl\n",
            "  python3-packaging python3-pandas python3-pandas-lib python3-paramiko\n",
            "  python3-partd python3-pil python3-pil.imagetk python3-pip\n",
            "  python3-pkg-resources python3-pluggy python3-ply python3-psutil python3-py\n",
            "  python3-pygit2 python3-pygments python3-pytest python3-pythran\n",
            "  python3-requests python3-scipy python3-setuptools python3-sortedcontainers\n",
            "  python3-soupsieve python3-stone python3-sympy python3-tables\n",
            "  python3-tables-lib python3-tblib python3-toml python3-toolz python3-tornado\n",
            "  python3-tz python3-ufolib2 python3-unicodedata2 python3-urllib3\n",
            "  python3-webencodings python3-wheel python3-xarray python3-xlwt python3-yaml\n",
            "  python3-zarr python3-zict python3-zmq qt5-gtk-platformtheme\n",
            "  qttranslations5-l10n sphinx-rtd-theme-common unicode-data\n",
            "Suggested packages:\n",
            "  fonts-noto fonts-freefont-otf | fonts-freefont-ttf fonts-texgyre\n",
            "  libgdal-grass ghostscript-x libfftw3-bin libfftw3-dev gsl-ref-psdoc\n",
            "  | gsl-doc-pdf | gsl-doc-info | gsl-ref-html proj-bin\n",
            "  qt5-image-formats-plugins qtwayland5 libterralib-doc libxsimd-doc\n",
            "  llvm-11-doc poppler-utils fonts-japanese-mincho | fonts-ipafont-mincho\n",
            "  fonts-japanese-gothic | fonts-ipafont-gothic fonts-arphic-ukai\n",
            "  fonts-arphic-uming fonts-nanum python-attr-doc python-blosc-doc\n",
            "  python-bottleneck-doc python-cycler-doc ipython python-dask-doc\n",
            "  python3-bcolz python3-boto python3-graphviz python3-h5py python3-skimage\n",
            "  python3-sklearn python3-sqlalchemy python-fsspec-doc python-h5py-doc\n",
            "  python3-genshi python-jinja2-doc llvmlite-doc python-lxml-doc dvipng\n",
            "  fonts-staypuft gir1.2-gtk-3.0 inkscape ipython3 librsvg2-common\n",
            "  python-matplotlib-doc python3-cairocffi python3-gi-cairo python3-gobject\n",
            "  python3-pyqt5 python3-sip texlive-extra-utils texlive-latex-extra\n",
            "  python-mpmath-doc python3-gmpy2 python-nacl-doc nvidia-cuda-toolkit\n",
            "  www-browser python-numpy-doc python-pandas-doc python3-statsmodels\n",
            "  python3-gssapi python3-invoke python-pil-doc python-ply-doc\n",
            "  python-psutil-doc subversion python-pygit2-doc python-pygments-doc\n",
            "  ttf-bitstream-vera python3-openssl python3-socks python-requests-doc\n",
            "  python-scipy-doc python-setuptools-doc python-sortedcontainers-doc\n",
            "  texlive-fonts-extra python-sympy-doc python-tables-doc vitables\n",
            "  python-toolz-doc python3-pycurl python-tornado-doc python3-twisted\n",
            "  python-xarray-doc python3-cartopy python3-pydap python3-rasterio\n",
            "  python3-seaborn python3-xlrd python-xlrt-doc jupyter-notebook\n",
            "The following NEW packages will be installed:\n",
            "  binfmt-support cdo fonts-dejavu-core fonts-dejavu-extra fonts-droid-fallback\n",
            "  fonts-font-awesome fonts-lato fonts-lyx fonts-noto-mono fonts-urw-base35\n",
            "  gdal-bin ghostscript libcdi0 libclang-cpp11 libdxflib3 libeccodes-data\n",
            "  libeccodes0 libeckit0d libevdev2 libfftw3-double3 libgs9 libgs9-common\n",
            "  libgsl27 libgslcblas0 libgudev-1.0-0 libidn12 libijs-0.35 libimagequant0\n",
            "  libinput-bin libinput10 libjbig2dec0 liblbfgsb0 libllvm11 liblzf1\n",
            "  libmagics++-data libmagplus3v5 libmd4c0 libmtdev1 libodc-0d libpfm4\n",
            "  libproj22 libqt5core5a libqt5dbus5 libqt5gui5 libqt5network5 libqt5svg5\n",
            "  libqt5widgets5 libraqm0 librsync2 libterralib3 libwacom-bin libwacom-common\n",
            "  libwacom9 libxcb-icccm4 libxcb-image0 libxcb-keysyms1 libxcb-render-util0\n",
            "  libxcb-util1 libxcb-xinerama0 libxcb-xinput0 libxcb-xkb1 libxkbcommon-x11-0\n",
            "  libxsimd-dev libz3-4 libz3-dev llvm-11 llvm-11-dev llvm-11-linker-tools\n",
            "  llvm-11-runtime llvm-11-tools nco numba-doc poppler-data\n",
            "  python-babel-localedata python-matplotlib-data python-odf-doc\n",
            "  python-odf-tools python-tables-data python3-appdirs python3-asciitree\n",
            "  python3-attr python3-babel python3-bcrypt python3-beniget python3-blosc\n",
            "  python3-bottleneck python3-brotli python3-bs4 python3-cdo python3-certifi\n",
            "  python3-cftime python3-chardet python3-click python3-cloudpickle\n",
            "  python3-colorama python3-cycler python3-dask python3-dateutil\n",
            "  python3-decorator python3-defusedxml python3-distributed python3-dropbox\n",
            "  python3-et-xmlfile python3-fasteners python3-fonttools python3-fs\n",
            "  python3-fsspec python3-fusepy python3-gast python3-gdal python3-h5netcdf\n",
            "  python3-h5py-serial python3-heapdict python3-html5lib python3-idna\n",
            "  python3-iniconfig python3-jdcal python3-jinja2 python3-kiwisolver\n",
            "  python3-libarchive-c python3-llvmlite python3-locket python3-lxml\n",
            "  python3-lz4 python3-matplotlib python3-monotonic python3-mpmath\n",
            "  python3-msgpack python3-nacl python3-netcdf4 python3-numba python3-numcodecs\n",
            "  python3-numexpr python3-numpy python3-odf python3-olefile python3-openpyxl\n",
            "  python3-packaging python3-pandas python3-pandas-lib python3-paramiko\n",
            "  python3-partd python3-pil python3-pil.imagetk python3-pip python3-pluggy\n",
            "  python3-ply python3-psutil python3-py python3-pygit2 python3-pygments\n",
            "  python3-pytest python3-pythran python3-requests python3-scipy\n",
            "  python3-setuptools python3-sortedcontainers python3-soupsieve python3-stone\n",
            "  python3-sympy python3-tables python3-tables-lib python3-tblib python3-toml\n",
            "  python3-toolz python3-tornado python3-tz python3-ufolib2\n",
            "  python3-unicodedata2 python3-urllib3 python3-webencodings python3-wheel\n",
            "  python3-xarray python3-xlwt python3-yaml python3-zarr python3-zict\n",
            "  python3-zmq qt5-gtk-platformtheme qttranslations5-l10n\n",
            "  sphinx-rtd-theme-common unicode-data\n",
            "The following packages will be upgraded:\n",
            "  python3-pkg-resources\n",
            "1 upgraded, 182 newly installed, 0 to remove and 37 not upgraded.\n",
            "Need to get 244 MB of archives.\n",
            "After this operation, 1,184 MB of additional disk space will be used.\n",
            "Get:1 http://archive.ubuntu.com/ubuntu jammy/main amd64 fonts-droid-fallback all 1:6.0.1r16-1.1build1 [1,805 kB]\n",
            "Get:2 https://ppa.launchpadcontent.net/ubuntugis/ppa/ubuntu jammy/main amd64 python3-pkg-resources all 68.1.2-2~jammy3 [216 kB]\n",
            "Get:3 http://archive.ubuntu.com/ubuntu jammy/main amd64 fonts-lato all 2.0-2.1 [2,696 kB]\n",
            "Get:4 https://ppa.launchpadcontent.net/ubuntugis/ppa/ubuntu jammy/main amd64 python3-gdal amd64 3.8.4+dfsg-1~jammy0 [1,095 kB]\n",
            "Get:5 http://archive.ubuntu.com/ubuntu jammy-updates/universe amd64 libqt5core5a amd64 5.15.3+dfsg-2ubuntu0.2 [2,006 kB]\n",
            "Get:6 https://ppa.launchpadcontent.net/ubuntugis/ppa/ubuntu jammy/main amd64 gdal-bin amd64 3.8.4+dfsg-1~jammy0 [605 kB]\n",
            "Get:7 http://archive.ubuntu.com/ubuntu jammy/main amd64 libevdev2 amd64 1.12.1+dfsg-1 [39.5 kB]\n",
            "Get:8 https://ppa.launchpadcontent.net/ubuntugis/ppa/ubuntu jammy/main amd64 python3-setuptools all 68.1.2-2~jammy3 [465 kB]\n",
            "Get:9 http://archive.ubuntu.com/ubuntu jammy/main amd64 libmtdev1 amd64 1.1.6-1build4 [14.5 kB]\n",
            "Get:10 http://archive.ubuntu.com/ubuntu jammy/main amd64 libgudev-1.0-0 amd64 1:237-2build1 [16.3 kB]\n",
            "Get:11 http://archive.ubuntu.com/ubuntu jammy/main amd64 libwacom-common all 2.2.0-1 [54.3 kB]\n",
            "Get:12 http://archive.ubuntu.com/ubuntu jammy/main amd64 libwacom9 amd64 2.2.0-1 [22.0 kB]\n",
            "Get:13 http://archive.ubuntu.com/ubuntu jammy-updates/main amd64 libinput-bin amd64 1.20.0-1ubuntu0.3 [19.9 kB]\n",
            "Get:14 http://archive.ubuntu.com/ubuntu jammy-updates/main amd64 libinput10 amd64 1.20.0-1ubuntu0.3 [131 kB]\n",
            "Get:15 http://archive.ubuntu.com/ubuntu jammy/universe amd64 libmd4c0 amd64 0.4.8-1 [42.0 kB]\n",
            "Get:16 http://archive.ubuntu.com/ubuntu jammy-updates/universe amd64 libqt5dbus5 amd64 5.15.3+dfsg-2ubuntu0.2 [222 kB]\n",
            "Get:17 http://archive.ubuntu.com/ubuntu jammy-updates/universe amd64 libqt5network5 amd64 5.15.3+dfsg-2ubuntu0.2 [731 kB]\n",
            "Get:18 http://archive.ubuntu.com/ubuntu jammy/main amd64 libxcb-icccm4 amd64 0.4.1-1.1build2 [11.5 kB]\n",
            "Get:19 http://archive.ubuntu.com/ubuntu jammy/main amd64 libxcb-util1 amd64 0.4.0-1build2 [11.4 kB]\n",
            "Get:20 http://archive.ubuntu.com/ubuntu jammy/main amd64 libxcb-image0 amd64 0.4.0-2 [11.5 kB]\n",
            "Get:21 http://archive.ubuntu.com/ubuntu jammy/main amd64 libxcb-keysyms1 amd64 0.4.0-1build3 [8,746 B]\n",
            "Get:22 http://archive.ubuntu.com/ubuntu jammy/main amd64 libxcb-render-util0 amd64 0.3.9-1build3 [10.3 kB]\n",
            "Get:23 http://archive.ubuntu.com/ubuntu jammy/main amd64 libxcb-xinerama0 amd64 1.14-3ubuntu3 [5,414 B]\n",
            "Get:24 http://archive.ubuntu.com/ubuntu jammy/main amd64 libxcb-xinput0 amd64 1.14-3ubuntu3 [34.3 kB]\n",
            "Get:25 http://archive.ubuntu.com/ubuntu jammy/main amd64 libxcb-xkb1 amd64 1.14-3ubuntu3 [32.8 kB]\n",
            "Get:26 http://archive.ubuntu.com/ubuntu jammy/main amd64 libxkbcommon-x11-0 amd64 1.4.0-1 [14.4 kB]\n",
            "Get:27 http://archive.ubuntu.com/ubuntu jammy-updates/universe amd64 libqt5gui5 amd64 5.15.3+dfsg-2ubuntu0.2 [3,722 kB]\n",
            "Get:28 http://archive.ubuntu.com/ubuntu jammy-updates/universe amd64 libqt5widgets5 amd64 5.15.3+dfsg-2ubuntu0.2 [2,561 kB]\n",
            "Get:29 http://archive.ubuntu.com/ubuntu jammy/universe amd64 libqt5svg5 amd64 5.15.3-1 [149 kB]\n",
            "Get:30 http://archive.ubuntu.com/ubuntu jammy/main amd64 poppler-data all 0.4.11-1 [2,171 kB]\n",
            "Get:31 http://archive.ubuntu.com/ubuntu jammy/main amd64 python3-yaml amd64 5.4.1-1ubuntu1 [129 kB]\n",
            "Get:32 http://archive.ubuntu.com/ubuntu jammy/main amd64 binfmt-support amd64 2.2.1-2 [55.8 kB]\n",
            "Get:33 http://archive.ubuntu.com/ubuntu jammy/universe amd64 libeccodes-data all 2.24.2-1 [1,592 kB]\n",
            "Get:34 http://archive.ubuntu.com/ubuntu jammy/universe amd64 libeccodes0 amd64 2.24.2-1 [614 kB]\n",
            "Get:35 http://archive.ubuntu.com/ubuntu jammy/universe amd64 libcdi0 amd64 2.0.4-1 [411 kB]\n",
            "Get:36 http://archive.ubuntu.com/ubuntu jammy/main amd64 libfftw3-double3 amd64 3.3.8-2ubuntu8 [770 kB]\n",
            "Get:37 http://archive.ubuntu.com/ubuntu jammy/universe amd64 libmagics++-data all 4.10.1-1 [41.8 MB]\n",
            "Get:38 http://archive.ubuntu.com/ubuntu jammy/main amd64 librsync2 amd64 2.3.2-1ubuntu1 [40.5 kB]\n",
            "Get:39 http://archive.ubuntu.com/ubuntu jammy/universe amd64 libeckit0d amd64 1.18.7-1 [1,306 kB]\n",
            "Get:40 http://archive.ubuntu.com/ubuntu jammy/universe amd64 libodc-0d amd64 1.4.4-1 [426 kB]\n",
            "Get:41 http://archive.ubuntu.com/ubuntu jammy/universe amd64 libproj22 amd64 8.2.1-1 [1,257 kB]\n",
            "Get:42 http://archive.ubuntu.com/ubuntu jammy/universe amd64 libdxflib3 amd64 3.26.4-1 [56.2 kB]\n",
            "Get:43 http://archive.ubuntu.com/ubuntu jammy/universe amd64 libterralib3 amd64 4.3.0+dfsg.2-12.1build2 [2,596 kB]\n",
            "Get:44 http://archive.ubuntu.com/ubuntu jammy/main amd64 fonts-dejavu-core all 2.37-2build1 [1,041 kB]\n",
            "Get:45 http://archive.ubuntu.com/ubuntu jammy/main amd64 fonts-dejavu-extra all 2.37-2build1 [2,041 kB]\n",
            "Get:46 http://archive.ubuntu.com/ubuntu jammy/main amd64 fonts-urw-base35 all 20200910-1 [6,367 kB]\n",
            "Get:47 http://archive.ubuntu.com/ubuntu jammy-updates/main amd64 libgs9-common all 9.55.0~dfsg1-0ubuntu5.11 [753 kB]\n",
            "Get:48 http://archive.ubuntu.com/ubuntu jammy-updates/main amd64 libidn12 amd64 1.38-4ubuntu1 [60.0 kB]\n",
            "Get:49 http://archive.ubuntu.com/ubuntu jammy/main amd64 libijs-0.35 amd64 0.35-15build2 [16.5 kB]\n",
            "Get:50 http://archive.ubuntu.com/ubuntu jammy/main amd64 libjbig2dec0 amd64 0.19-3build2 [64.7 kB]\n",
            "Get:51 http://archive.ubuntu.com/ubuntu jammy-updates/main amd64 libgs9 amd64 9.55.0~dfsg1-0ubuntu5.11 [5,031 kB]\n",
            "Get:52 http://archive.ubuntu.com/ubuntu jammy-updates/main amd64 ghostscript amd64 9.55.0~dfsg1-0ubuntu5.11 [49.4 kB]\n",
            "Get:53 http://archive.ubuntu.com/ubuntu jammy/universe amd64 libmagplus3v5 amd64 4.10.1-1 [2,619 kB]\n",
            "Get:54 http://archive.ubuntu.com/ubuntu jammy/universe amd64 cdo amd64 2.0.4-1 [2,419 kB]\n",
            "Get:55 http://archive.ubuntu.com/ubuntu jammy/main amd64 fonts-font-awesome all 5.0.10+really4.7.0~dfsg-4.1 [516 kB]\n",
            "Get:56 http://archive.ubuntu.com/ubuntu jammy/universe amd64 fonts-lyx all 2.3.6-1 [159 kB]\n",
            "Get:57 http://archive.ubuntu.com/ubuntu jammy/main amd64 fonts-noto-mono all 20201225-1build1 [397 kB]\n",
            "Get:58 http://archive.ubuntu.com/ubuntu jammy-updates/main amd64 python3-numpy amd64 1:1.21.5-1ubuntu22.04.1 [3,467 kB]\n",
            "Get:59 http://archive.ubuntu.com/ubuntu jammy/universe amd64 libllvm11 amd64 1:11.1.0-6 [19.6 MB]\n",
            "Get:60 http://archive.ubuntu.com/ubuntu jammy/universe amd64 libclang-cpp11 amd64 1:11.1.0-6 [10.5 MB]\n",
            "Get:61 http://archive.ubuntu.com/ubuntu jammy/universe amd64 libgslcblas0 amd64 2.7.1+dfsg-3 [94.4 kB]\n",
            "Get:62 http://archive.ubuntu.com/ubuntu jammy/universe amd64 libgsl27 amd64 2.7.1+dfsg-3 [1,000 kB]\n",
            "Get:63 http://archive.ubuntu.com/ubuntu jammy/main amd64 libimagequant0 amd64 2.17.0-1 [34.6 kB]\n",
            "Get:64 http://archive.ubuntu.com/ubuntu jammy/universe amd64 liblbfgsb0 amd64 3.0+dfsg.3-10 [29.9 kB]\n",
            "Get:65 http://archive.ubuntu.com/ubuntu jammy/universe amd64 liblzf1 amd64 3.6-3 [7,444 B]\n",
            "Get:66 http://archive.ubuntu.com/ubuntu jammy/main amd64 libraqm0 amd64 0.7.0-4ubuntu1 [11.7 kB]\n",
            "Get:67 http://archive.ubuntu.com/ubuntu jammy/main amd64 libwacom-bin amd64 2.2.0-1 [13.6 kB]\n",
            "Get:68 http://archive.ubuntu.com/ubuntu jammy/universe amd64 libxsimd-dev amd64 7.6.0-2 [108 kB]\n",
            "Get:69 http://archive.ubuntu.com/ubuntu jammy/universe amd64 llvm-11-runtime amd64 1:11.1.0-6 [186 kB]\n",
            "Get:70 http://archive.ubuntu.com/ubuntu jammy/universe amd64 llvm-11-linker-tools amd64 1:11.1.0-6 [1,275 kB]\n",
            "Get:71 http://archive.ubuntu.com/ubuntu jammy-updates/main amd64 libpfm4 amd64 4.11.1+git32-gd0b85fb-1ubuntu0.1 [345 kB]\n",
            "Get:72 http://archive.ubuntu.com/ubuntu jammy/universe amd64 llvm-11 amd64 1:11.1.0-6 [9,118 kB]\n",
            "Get:73 http://archive.ubuntu.com/ubuntu jammy-updates/main amd64 python3-pygments all 2.11.2+dfsg-2ubuntu0.1 [750 kB]\n",
            "Get:74 http://archive.ubuntu.com/ubuntu jammy/universe amd64 llvm-11-tools amd64 1:11.1.0-6 [359 kB]\n",
            "Get:75 http://archive.ubuntu.com/ubuntu jammy/universe amd64 libz3-4 amd64 4.8.12-1 [5,766 kB]\n",
            "Get:76 http://archive.ubuntu.com/ubuntu jammy/universe amd64 libz3-dev amd64 4.8.12-1 [72.2 kB]\n",
            "Get:77 http://archive.ubuntu.com/ubuntu jammy/universe amd64 llvm-11-dev amd64 1:11.1.0-6 [29.9 MB]\n",
            "Get:78 http://archive.ubuntu.com/ubuntu jammy/universe amd64 nco amd64 5.0.6-1 [1,891 kB]\n",
            "Get:79 http://archive.ubuntu.com/ubuntu jammy/main amd64 sphinx-rtd-theme-common all 1.0.0+dfsg-1 [991 kB]\n",
            "Get:80 http://archive.ubuntu.com/ubuntu jammy/universe amd64 numba-doc all 0.55.1-0ubuntu2 [737 kB]\n",
            "Get:81 http://archive.ubuntu.com/ubuntu jammy/main amd64 python-babel-localedata all 2.8.0+dfsg.1-7 [4,982 kB]\n",
            "Get:82 http://archive.ubuntu.com/ubuntu jammy/universe amd64 python-matplotlib-data all 3.5.1-2build1 [2,942 kB]\n",
            "Get:83 http://archive.ubuntu.com/ubuntu jammy/universe amd64 python-odf-doc all 1.4.2-1 [222 kB]\n",
            "Get:84 http://archive.ubuntu.com/ubuntu jammy/main amd64 python3-defusedxml all 0.7.1-1 [43.2 kB]\n",
            "Get:85 http://archive.ubuntu.com/ubuntu jammy/universe amd64 python3-odf all 1.4.2-1 [79.3 kB]\n",
            "Get:86 http://archive.ubuntu.com/ubuntu jammy/universe amd64 python-odf-tools all 1.4.2-1 [27.3 kB]\n",
            "Get:87 http://archive.ubuntu.com/ubuntu jammy/universe amd64 python-tables-data all 3.7.0-2build1 [47.6 kB]\n",
            "Get:88 http://archive.ubuntu.com/ubuntu jammy/main amd64 python3-appdirs all 1.4.4-2 [11.4 kB]\n",
            "Get:89 http://archive.ubuntu.com/ubuntu jammy/universe amd64 python3-asciitree all 0.3.3-3 [5,432 B]\n",
            "Get:90 http://archive.ubuntu.com/ubuntu jammy/main amd64 python3-attr all 21.2.0-1 [44.0 kB]\n",
            "Get:91 http://archive.ubuntu.com/ubuntu jammy-updates/main amd64 python3-tz all 2022.1-1ubuntu0.22.04.1 [30.7 kB]\n",
            "Get:92 http://archive.ubuntu.com/ubuntu jammy/main amd64 python3-babel all 2.8.0+dfsg.1-7 [85.1 kB]\n",
            "Get:93 http://archive.ubuntu.com/ubuntu jammy/universe amd64 python3-gast all 0.5.2-2 [9,394 B]\n",
            "Get:94 http://archive.ubuntu.com/ubuntu jammy/universe amd64 python3-beniget all 0.4.1-2 [9,904 B]\n",
            "Get:95 http://archive.ubuntu.com/ubuntu jammy/universe amd64 python3-blosc amd64 1.9.2+ds1-3build2 [29.3 kB]\n",
            "Get:96 http://archive.ubuntu.com/ubuntu jammy/universe amd64 python3-bottleneck amd64 1.3.2+ds1-2build1 [82.9 kB]\n",
            "Get:97 http://archive.ubuntu.com/ubuntu jammy/universe amd64 python3-brotli amd64 1.0.9-2build6 [319 kB]\n",
            "Get:98 http://archive.ubuntu.com/ubuntu jammy/main amd64 python3-soupsieve all 2.3.1-1 [33.0 kB]\n",
            "Get:99 http://archive.ubuntu.com/ubuntu jammy/main amd64 python3-bs4 all 4.10.0-2 [79.1 kB]\n",
            "Get:100 http://archive.ubuntu.com/ubuntu jammy/main amd64 python3-certifi all 2020.6.20-1 [150 kB]\n",
            "Get:101 http://archive.ubuntu.com/ubuntu jammy/universe amd64 python3-cftime amd64 1.5.2+ds-1build1 [174 kB]\n",
            "Get:102 http://archive.ubuntu.com/ubuntu jammy/main amd64 python3-chardet all 4.0.0-1 [98.0 kB]\n",
            "Get:103 http://archive.ubuntu.com/ubuntu jammy/main amd64 python3-colorama all 0.4.4-1 [24.5 kB]\n",
            "Get:104 http://archive.ubuntu.com/ubuntu jammy/main amd64 python3-click all 8.0.3-1 [78.3 kB]\n",
            "Get:105 http://archive.ubuntu.com/ubuntu jammy/universe amd64 python3-cloudpickle all 2.0.0-1 [24.5 kB]\n",
            "Get:106 http://archive.ubuntu.com/ubuntu jammy/universe amd64 python3-cycler all 0.11.0-1 [8,156 B]\n",
            "Get:107 http://archive.ubuntu.com/ubuntu jammy/universe amd64 python3-fsspec all 2022.01.0-1 [96.8 kB]\n",
            "Get:108 http://archive.ubuntu.com/ubuntu jammy/universe amd64 python3-toolz all 0.11.2-1 [44.7 kB]\n",
            "Get:109 http://archive.ubuntu.com/ubuntu jammy/main amd64 python3-packaging all 21.3-1 [30.7 kB]\n",
            "Get:110 http://archive.ubuntu.com/ubuntu jammy/universe amd64 python3-locket all 0.2.1-1 [5,390 B]\n",
            "Get:111 http://archive.ubuntu.com/ubuntu jammy/universe amd64 python3-partd all 1.2.0-1 [15.8 kB]\n",
            "Get:112 http://archive.ubuntu.com/ubuntu jammy/universe amd64 python3-dask all 2022.01.0+dfsg-1ubuntu1 [724 kB]\n",
            "Get:113 http://archive.ubuntu.com/ubuntu jammy/main amd64 python3-dateutil all 2.8.1-6 [78.4 kB]\n",
            "Get:114 http://archive.ubuntu.com/ubuntu jammy/main amd64 python3-decorator all 4.4.2-0ubuntu1 [10.3 kB]\n",
            "Get:115 http://archive.ubuntu.com/ubuntu jammy-updates/main amd64 python3-jinja2 all 3.0.3-1ubuntu0.4 [108 kB]\n",
            "Get:116 http://archive.ubuntu.com/ubuntu jammy/main amd64 python3-msgpack amd64 1.0.3-1build1 [67.8 kB]\n",
            "Get:117 http://archive.ubuntu.com/ubuntu jammy/main amd64 python3-psutil amd64 5.9.0-1build1 [158 kB]\n",
            "Get:118 http://archive.ubuntu.com/ubuntu jammy/main amd64 python3-sortedcontainers all 2.1.0-2 [27.3 kB]\n",
            "Get:119 http://archive.ubuntu.com/ubuntu jammy/universe amd64 python3-tblib all 1.7.0-2 [12.7 kB]\n",
            "Get:120 http://archive.ubuntu.com/ubuntu jammy/universe amd64 python3-tornado amd64 6.1.0-3build1 [287 kB]\n",
            "Get:121 http://archive.ubuntu.com/ubuntu jammy/universe amd64 python3-heapdict all 1.0.1-1 [5,324 B]\n",
            "Get:122 http://archive.ubuntu.com/ubuntu jammy/universe amd64 python3-zict all 2.0.0-1 [9,440 B]\n",
            "Get:123 http://archive.ubuntu.com/ubuntu jammy/universe amd64 python3-distributed all 2022.01.0+ds.1-1 [575 kB]\n",
            "Get:124 http://archive.ubuntu.com/ubuntu jammy-updates/main amd64 python3-idna all 3.3-1ubuntu0.1 [52.1 kB]\n",
            "Get:125 http://archive.ubuntu.com/ubuntu jammy-updates/main amd64 python3-urllib3 all 1.26.5-1~exp1ubuntu0.3 [98.6 kB]\n",
            "Get:126 http://archive.ubuntu.com/ubuntu jammy-updates/main amd64 python3-requests all 2.25.1+dfsg-2ubuntu0.3 [48.8 kB]\n",
            "Get:127 http://archive.ubuntu.com/ubuntu jammy/main amd64 python3-ply all 3.11-5 [47.5 kB]\n",
            "Get:128 http://archive.ubuntu.com/ubuntu jammy/universe amd64 python3-stone all 3.3.1-1 [119 kB]\n",
            "Get:129 http://archive.ubuntu.com/ubuntu jammy/universe amd64 python3-dropbox all 11.26.0-1 [405 kB]\n",
            "Get:130 http://archive.ubuntu.com/ubuntu jammy/universe amd64 python3-et-xmlfile all 1.0.1-2.1 [9,224 B]\n",
            "Get:131 http://archive.ubuntu.com/ubuntu jammy/main amd64 python3-monotonic all 1.6-2 [5,732 B]\n",
            "Get:132 http://archive.ubuntu.com/ubuntu jammy/main amd64 python3-fasteners all 0.14.1-2 [14.1 kB]\n",
            "Get:133 http://archive.ubuntu.com/ubuntu jammy/universe amd64 python3-pythran amd64 0.10.0+ds2-1 [423 kB]\n",
            "Get:134 http://archive.ubuntu.com/ubuntu jammy/universe amd64 python3-scipy amd64 1.8.0-1exp2ubuntu1 [14.7 MB]\n",
            "Get:135 http://archive.ubuntu.com/ubuntu jammy/universe amd64 python3-ufolib2 all 0.13.1+dfsg1-1 [32.2 kB]\n",
            "Get:136 http://archive.ubuntu.com/ubuntu jammy/universe amd64 python3-mpmath all 1.2.1-2 [419 kB]\n",
            "Get:137 http://archive.ubuntu.com/ubuntu jammy/universe amd64 python3-sympy all 1.9-1 [4,312 kB]\n",
            "Get:138 http://archive.ubuntu.com/ubuntu jammy/universe amd64 python3-fs all 2.4.12-1 [84.9 kB]\n",
            "Get:139 http://archive.ubuntu.com/ubuntu jammy/main amd64 python3-lxml amd64 4.8.0-1build1 [1,150 kB]\n",
            "Get:140 http://archive.ubuntu.com/ubuntu jammy/universe amd64 python3-lz4 amd64 3.1.3+dfsg-1build3 [33.3 kB]\n",
            "Get:141 http://archive.ubuntu.com/ubuntu jammy/universe amd64 python3-unicodedata2 amd64 14.0.0+ds-8 [376 kB]\n",
            "Get:142 http://archive.ubuntu.com/ubuntu jammy/universe amd64 unicode-data all 14.0.0-1.1 [8,206 kB]\n",
            "Get:143 http://archive.ubuntu.com/ubuntu jammy/universe amd64 python3-fonttools amd64 4.29.1-2build1 [810 kB]\n",
            "Get:144 http://archive.ubuntu.com/ubuntu jammy/universe amd64 python3-fusepy all 3.0.1-2 [11.3 kB]\n",
            "Get:145 http://archive.ubuntu.com/ubuntu jammy/universe amd64 python3-h5py-serial amd64 3.6.0-2build1 [872 kB]\n",
            "Get:146 http://archive.ubuntu.com/ubuntu jammy/universe amd64 python3-h5netcdf all 0.12.0-1 [19.3 kB]\n",
            "Get:147 http://archive.ubuntu.com/ubuntu jammy/main amd64 python3-webencodings all 0.5.1-4 [11.8 kB]\n",
            "Get:148 http://archive.ubuntu.com/ubuntu jammy/main amd64 python3-html5lib all 1.1-3 [87.0 kB]\n",
            "Get:149 http://archive.ubuntu.com/ubuntu jammy/universe amd64 python3-iniconfig all 1.1.1-2 [6,024 B]\n",
            "Get:150 http://archive.ubuntu.com/ubuntu jammy/universe amd64 python3-jdcal all 1.0-1.3 [7,944 B]\n",
            "Get:151 http://archive.ubuntu.com/ubuntu jammy/universe amd64 python3-kiwisolver amd64 1.3.2-1build1 [48.0 kB]\n",
            "Get:152 http://archive.ubuntu.com/ubuntu jammy/universe amd64 python3-llvmlite amd64 0.38.0-1 [126 kB]\n",
            "Get:153 http://archive.ubuntu.com/ubuntu jammy-updates/main amd64 python3-pil amd64 9.0.1-1ubuntu0.3 [419 kB]\n",
            "Get:154 http://archive.ubuntu.com/ubuntu jammy-updates/universe amd64 python3-pil.imagetk amd64 9.0.1-1ubuntu0.3 [9,616 B]\n",
            "Get:155 http://archive.ubuntu.com/ubuntu jammy/universe amd64 python3-matplotlib amd64 3.5.1-2build1 [5,937 kB]\n",
            "Get:156 http://archive.ubuntu.com/ubuntu jammy/main amd64 python3-nacl amd64 1.5.0-2 [63.1 kB]\n",
            "Get:157 http://archive.ubuntu.com/ubuntu jammy/universe amd64 python3-netcdf4 amd64 1.5.8-1build1 [449 kB]\n",
            "Get:158 http://archive.ubuntu.com/ubuntu jammy/universe amd64 python3-numba amd64 0.55.1-0ubuntu2 [1,588 kB]\n",
            "Get:159 http://archive.ubuntu.com/ubuntu jammy/universe amd64 python3-numcodecs amd64 0.9.1+ds-2build1 [268 kB]\n",
            "Get:160 http://archive.ubuntu.com/ubuntu jammy/universe amd64 python3-numexpr amd64 2.8.1-1build1 [86.0 kB]\n",
            "Get:161 http://archive.ubuntu.com/ubuntu jammy/main amd64 python3-olefile all 0.46-3 [33.8 kB]\n",
            "Get:162 http://archive.ubuntu.com/ubuntu jammy/universe amd64 python3-openpyxl all 3.0.9-1 [148 kB]\n",
            "Get:163 http://archive.ubuntu.com/ubuntu jammy/universe amd64 python3-pandas-lib amd64 1.3.5+dfsg-3 [3,735 kB]\n",
            "Get:164 http://archive.ubuntu.com/ubuntu jammy/universe amd64 python3-pandas all 1.3.5+dfsg-3 [2,680 kB]\n",
            "Get:165 http://archive.ubuntu.com/ubuntu jammy/main amd64 python3-bcrypt amd64 3.2.0-1build1 [32.7 kB]\n",
            "Get:166 http://archive.ubuntu.com/ubuntu jammy-updates/main amd64 python3-paramiko all 2.9.3-0ubuntu1.3 [134 kB]\n",
            "Get:167 http://archive.ubuntu.com/ubuntu jammy-updates/universe amd64 python3-wheel all 0.37.1-2ubuntu0.22.04.1 [32.0 kB]\n",
            "Get:168 http://archive.ubuntu.com/ubuntu jammy-updates/universe amd64 python3-pip all 22.0.2+dfsg-1ubuntu0.6 [1,306 kB]\n",
            "Get:169 http://archive.ubuntu.com/ubuntu jammy/universe amd64 python3-pluggy all 0.13.0-7.1 [19.0 kB]\n",
            "Get:170 http://archive.ubuntu.com/ubuntu jammy/universe amd64 python3-py all 1.10.0-1 [71.9 kB]\n",
            "Get:171 http://archive.ubuntu.com/ubuntu jammy/universe amd64 python3-pygit2 amd64 1.6.1+dfsg-2 [154 kB]\n",
            "Get:172 http://archive.ubuntu.com/ubuntu jammy/universe amd64 python3-toml all 0.10.2-1 [16.5 kB]\n",
            "Get:173 http://archive.ubuntu.com/ubuntu jammy/universe amd64 python3-pytest all 6.2.5-1ubuntu2 [214 kB]\n",
            "Get:174 http://archive.ubuntu.com/ubuntu jammy/universe amd64 python3-tables-lib amd64 3.7.0-2build1 [427 kB]\n",
            "Get:175 http://archive.ubuntu.com/ubuntu jammy/universe amd64 python3-tables all 3.7.0-2build1 [333 kB]\n",
            "Get:176 http://archive.ubuntu.com/ubuntu jammy/universe amd64 python3-xarray all 0.21.1-1 [575 kB]\n",
            "Get:177 http://archive.ubuntu.com/ubuntu jammy/universe amd64 python3-xlwt all 1.3.0-3 [83.7 kB]\n",
            "Get:178 http://archive.ubuntu.com/ubuntu jammy/universe amd64 python3-zarr all 2.10.3+ds-1 [260 kB]\n",
            "Get:179 http://archive.ubuntu.com/ubuntu jammy/universe amd64 python3-zmq amd64 22.3.0-1build1 [283 kB]\n",
            "Get:180 http://archive.ubuntu.com/ubuntu jammy-updates/universe amd64 qt5-gtk-platformtheme amd64 5.15.3+dfsg-2ubuntu0.2 [130 kB]\n",
            "Get:181 http://archive.ubuntu.com/ubuntu jammy/universe amd64 qttranslations5-l10n all 5.15.3-1 [1,983 kB]\n",
            "Get:182 http://archive.ubuntu.com/ubuntu jammy/universe amd64 python3-cdo amd64 1.5.6-1 [12.1 kB]\n",
            "Get:183 http://archive.ubuntu.com/ubuntu jammy/universe amd64 python3-libarchive-c all 2.9-0.1 [14.5 kB]\n",
            "Fetched 244 MB in 4s (56.0 MB/s)\n",
            "Extracting templates from packages: 65%"
          ]
        }
      ]
    },
    {
      "cell_type": "code",
      "execution_count": null,
      "metadata": {
        "id": "9s8l6dFboOru"
      },
      "outputs": [],
      "source": [
        "!pip install -U geoanalytics"
      ]
    },
    {
      "cell_type": "markdown",
      "source": [
        "# Step 2: Python code creating a synthethic tiff file containing 25 pixels (5 x 5) and 10 bands."
      ],
      "metadata": {
        "id": "AmWpTMgBoemA"
      }
    },
    {
      "cell_type": "markdown",
      "source": [
        "## Step 2.1: Generating the synthetic tiff file"
      ],
      "metadata": {
        "id": "ydhUDrvpuE5Q"
      }
    },
    {
      "cell_type": "code",
      "source": [
        "import numpy as np\n",
        "import rasterio\n",
        "from rasterio.enums import Compression\n",
        "from rasterio.transform import from_origin\n",
        "from rasterio.crs import CRS\n",
        "import csv\n",
        "\n",
        "# Image parameters\n",
        "width, height = 5, 5\n",
        "bands = 10\n",
        "pixel_size = 1.0  # 1 degree per pixel\n",
        "top_left_lon = 0.0\n",
        "top_left_lat = 5.0  # Top-left starting coordinate\n",
        "\n",
        "# Define transform and CRS\n",
        "transform = from_origin(top_left_lon, top_left_lat, pixel_size, pixel_size)\n",
        "crs = CRS.from_epsg(4326)\n",
        "\n",
        "# Generate random image data (bands, height, width)\n",
        "data = np.random.randint(1, 101, size=(bands, height, width), dtype=np.uint8)\n",
        "\n",
        "# Save as GeoTIFF\n",
        "output_tif = 'random_10band_5x5_wgs84.tif'\n",
        "with rasterio.open(\n",
        "    output_tif,\n",
        "    'w',\n",
        "    driver='GTiff',\n",
        "    width=width,\n",
        "    height=height,\n",
        "    count=bands,\n",
        "    dtype='uint8',\n",
        "    crs=crs,\n",
        "    transform=transform,\n",
        "    compress=Compression.none\n",
        ") as dst:\n",
        "    for i in range(bands):\n",
        "        dst.write(data[i], i + 1)\n",
        "\n",
        "# Prepare CSV data and print output\n",
        "csv_file = 'pixel_data.csv'\n",
        "headers = ['lon', 'lat'] + [f'band{b+1}' for b in range(bands)]\n",
        "\n",
        "rows = []\n",
        "rows.append(headers)\n",
        "\n",
        "# Print and store rows: lon, lat, band1...band10\n",
        "print(\"\\n\" + \"\\t\".join(headers))\n",
        "for y in range(height):\n",
        "    for x in range(width):\n",
        "        lon, lat = transform * (x + 0.5, y + 0.5)  # pixel center\n",
        "        values = [data[b, y, x] for b in range(bands)]\n",
        "        row = [round(lon, 2), round(lat, 2)] + values\n",
        "        rows.append(row)\n",
        "        print(\"\\t\".join(map(str, row)))\n",
        "\n",
        "# Save to CSV\n",
        "with open(csv_file, mode='w', newline='') as f:\n",
        "    writer = csv.writer(f)\n",
        "    writer.writerows(rows)\n",
        "\n",
        "print(f\"\\n✅ TIFF saved to: {output_tif}\")\n",
        "print(f\"✅ CSV saved to: {csv_file}\")\n"
      ],
      "metadata": {
        "id": "V1hXiX1etGuq"
      },
      "execution_count": null,
      "outputs": []
    },
    {
      "cell_type": "markdown",
      "source": [
        "## Step 2.2: Viewing the tiff file"
      ],
      "metadata": {
        "id": "QPeqyq0tt-mP"
      }
    },
    {
      "cell_type": "code",
      "source": [
        "from geoanalytics.visualization import TiffViewer\n",
        "\n",
        "viewer = TiffViewer.TiffViewer(inputFile='random_10band_5x5_wgs84.tif')\n",
        "\n",
        "viewer.run(cmap='jet', title='TIFF Image')"
      ],
      "metadata": {
        "id": "NIPRxhXRt0Pv"
      },
      "execution_count": null,
      "outputs": []
    },
    {
      "cell_type": "markdown",
      "source": [
        "# Step 3: Hypothetical Assumption about this Dataset\n",
        "\n",
        "\n",
        "* Let us assume the raster data represents an imagenary surface of a Celestial body (or object).\n",
        "* Band represents the wavelength or time.\n",
        "\n",
        "**For brevity, let us consider the above raster data represents the sea surface temperatures on the planet earth.**  "
      ],
      "metadata": {
        "id": "Ng08VY4OqKKM"
      }
    },
    {
      "cell_type": "markdown",
      "source": [
        "# Step 4: Problem Statement\n",
        "\n",
        "Useful patterns of various types are hidden in this raster data. These patterns can empower the users to gain competitive advantage and achieve socioeconomic development.  In this exercise, we try to extract this information in form of frequently occurring patterns.\n",
        "\n",
        "**Since we are consider our data as sea surface temperatures, we try to identify the areas where high temperatures are frequently observed collectively**"
      ],
      "metadata": {
        "id": "ZT7NZdAKucLD"
      }
    },
    {
      "cell_type": "markdown",
      "source": [
        "# Step 5: Identifying the locations where high SSTs were observed **simultaneously** (Frequent Pattern Discovery)"
      ],
      "metadata": {
        "id": "Ucvvj2D5vhkq"
      }
    },
    {
      "cell_type": "markdown",
      "source": [
        "## Step 5.1: Creation of Binary Matrix (or transactional database)\n",
        "\n",
        "* Let us consider any value greater than or equal to 50 represents high SST. Anything else, low SST, and we are not interested in those recording.\n",
        "\n",
        "* Let us binarize the matrix such that\n",
        "   * band value = 1 means corresponding pixel recorded high temperature at that respective band\n",
        "   * band value = 0 means corresponding pixel recorded low temperature at that respective band"
      ],
      "metadata": {
        "id": "TqNixq0Dv_O9"
      }
    },
    {
      "cell_type": "code",
      "source": [
        "import pandas as pd\n",
        "\n",
        "#Reading the CSV data\n",
        "df = pd.read_csv('pixel_data.csv', sep=',')\n",
        "df"
      ],
      "metadata": {
        "collapsed": true,
        "id": "rUxugHsUugZB"
      },
      "execution_count": null,
      "outputs": []
    },
    {
      "cell_type": "code",
      "source": [
        "from geoanalytics.conversion import RasterDF2DB\n",
        "\n",
        "# Pass the dataframe as input dataframe\n",
        "obj = RasterDF2DB.RasterDF2DB(dataframe=df)\n",
        "\n",
        "#Preparing the binary transactional database\n",
        "obj.prepareTransactionalDataframe()\n",
        "\n",
        "#Creation of a transactional database\n",
        "obj.convertToTransactionalDB(DBname='transactionalDB.csv', condition='>=', thresholdValue=50)"
      ],
      "metadata": {
        "id": "4j8mOWtJxWFZ"
      },
      "execution_count": null,
      "outputs": []
    },
    {
      "cell_type": "markdown",
      "source": [
        "## Step 5.2: Print the transactional database and check out its contents"
      ],
      "metadata": {
        "id": "5uB5U9IXyaaH"
      }
    },
    {
      "cell_type": "code",
      "source": [
        "!cat transactionalDB.csv"
      ],
      "metadata": {
        "id": "DLrDXbqMzWNd"
      },
      "execution_count": null,
      "outputs": []
    },
    {
      "cell_type": "markdown",
      "source": [
        "Meaning of the created dataset:\n",
        "* Each line represents a band. Our raster file contains 10 bands. So we will have 10 lines (or transactions).\n",
        "* Each line denotes the pixels that have recorded value that satisfied the user-specified condition.\n",
        "\n",
        "**In this tutorial, each line represents the pixels that have recorded high SSTs at their respective bands.**"
      ],
      "metadata": {
        "id": "2d1IhvEtzYDN"
      }
    },
    {
      "cell_type": "code",
      "source": [
        "# Just for verifying purposes we are printing the first two (data) lines of the files: pixel_data.csv and transactionalDB.csv\n",
        "!head -3 pixel_data.csv # contains header row\n",
        "!head -2 transactionalDB.csv"
      ],
      "metadata": {
        "id": "EU1IBi5Fyfte"
      },
      "execution_count": null,
      "outputs": []
    },
    {
      "cell_type": "markdown",
      "source": [
        "## Step 5.3: To specify appropriate hyper-parameter (minimum support) for the frequent pattern model we need to study the distribution (or statistical details) of the constructed transactional database."
      ],
      "metadata": {
        "id": "BGsaNGe90z-v"
      }
    },
    {
      "cell_type": "code",
      "source": [
        "from geoanalytics.patternMining import FrequentPatternMining as pm\n",
        "\n",
        "alg = pm.FrequentPatternMining(inputFile='transactionalDB.csv')\n",
        "alg.showDBstats()"
      ],
      "metadata": {
        "id": "iVgJoOlOyzkH"
      },
      "execution_count": null,
      "outputs": []
    },
    {
      "cell_type": "markdown",
      "source": [
        "## Step 5.4: Mining Frequent Patterns\n",
        "\n",
        "Let minSup be 4. It means we are finding the sets of pixels where high SSTs were simultaneously observed at least 4 times (out of 10 times/bands) in our dataset.\n",
        "\n",
        "In other words, we are finding the sets of pixels that have simultaneously observed high SSTs at least 40% of the time."
      ],
      "metadata": {
        "id": "oC3toNyT115e"
      }
    },
    {
      "cell_type": "code",
      "source": [
        "alg.run(minSupport=4)"
      ],
      "metadata": {
        "id": "9eTWzeq210OP"
      },
      "execution_count": null,
      "outputs": []
    },
    {
      "cell_type": "markdown",
      "source": [
        "We have identified 93 sets of locations that have simultaneously recorded high levels of SSTs."
      ],
      "metadata": {
        "id": "fGXrlBdO2hmU"
      }
    },
    {
      "cell_type": "markdown",
      "source": [
        "## Step 5.5: Saving the generated frequent patterns"
      ],
      "metadata": {
        "id": "n0f462-X2x2d"
      }
    },
    {
      "cell_type": "code",
      "source": [
        "alg.save(outputFile='FrequentPatterns.txt')"
      ],
      "metadata": {
        "id": "JV18jv_-2fUm"
      },
      "execution_count": null,
      "outputs": []
    },
    {
      "cell_type": "markdown",
      "source": [
        "## Step 5.6: Printing the generated frequent patterns"
      ],
      "metadata": {
        "id": "v8vNOGN82-xu"
      }
    },
    {
      "cell_type": "code",
      "source": [
        "!tail -10 FrequentPatterns.txt"
      ],
      "metadata": {
        "id": "QAHHXMQc3Dxv"
      },
      "execution_count": null,
      "outputs": []
    },
    {
      "cell_type": "markdown",
      "source": [
        "**Format - pattern:frequency**\n",
        "\n",
        "* The first frequent pattern provides the information that the pixels or points (3.5,1.5) and (0.5,4.5) have simultaneously observed high SSTs 60% of the time in the dataset.\n",
        "* Similar statements can be made for remaining frequent patterns.\n",
        "* Long patterns are often interesting to the users. So you can identify long patterns and study them seperately.\n",
        "* Frequent patterns containing single pixel/point may be ignored."
      ],
      "metadata": {
        "id": "B9BKH06c3cTC"
      }
    },
    {
      "cell_type": "markdown",
      "source": [
        "## Step 5.7: Visualizing Long Patterns"
      ],
      "metadata": {
        "id": "KJMW62O96uLw"
      }
    },
    {
      "cell_type": "code",
      "source": [
        "from PAMI.extras.graph import visualizePatterns as fig\n",
        "\n",
        "obj = fig.visualizePatterns('FrequentPatterns.txt',10)\n",
        "obj.visualize(width=1000,height=900)"
      ],
      "metadata": {
        "id": "4v6yevtx4t0a"
      },
      "execution_count": null,
      "outputs": []
    }
  ]
}